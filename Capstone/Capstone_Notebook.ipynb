{
 "cells": [
  {
   "cell_type": "markdown",
   "id": "02ad6d44-5ac1-4966-82ad-a70f5c4135cb",
   "metadata": {},
   "source": [
    "## Neighborhoods around the World"
   ]
  },
  {
   "cell_type": "markdown",
   "id": "65236351-7004-495a-ad44-57e01439905f",
   "metadata": {},
   "source": [
    "### Introduction and Problem\n",
    "Every country around the world has a unique culture and way of life. In order to thrive in this globalized economy it is important to understand our differences in order to interact respectfully with our counterparts around the world. This study will take a look at how similar major cities are around the world. We will focus on the size of the city, popular venues, available green space and other amenities located in metropolitan centers to better understand the priorities of different populations. How a city is structured tells us a lot about the behavior of the people that live there and will give us a better understanding of their way of life. "
   ]
  },
  {
   "cell_type": "markdown",
   "id": "8e3dc259-7d62-4c69-8b2b-7e1defcd9fb0",
   "metadata": {},
   "source": [
    "### Data Sources \n",
    "In this project, I will be using the Foursquare API to extract location data for major cities around the world. I will use the Foursquare API to extract top 5 food venues, number of parks, and religious institutions. I will also be using Wikipedia or other local online source to obtain a city's population, land area and economic factors like unemployment rate. Using this information along with a K-means algorithm we will detect the similarities between cities around the world. \n",
    "\n",
    "Potential Cities:\n",
    "- Toronto, Canada\n",
    "- Tokyo, Japan\n",
    "- Sao Paolo, Brazil\n",
    "- Cairo, Egypt\n",
    "- Madrid, Spain\n",
    "- Berlin, Germany\n",
    "- Houston, USA\n",
    "- Shanghai, China\n",
    "- Bogota, Colombia\n",
    "- Istanbul Turkey\n",
    "\n",
    "Cities will be finalized after data is reviewed to ensure enough data is available to support the study."
   ]
  },
  {
   "cell_type": "code",
   "execution_count": null,
   "id": "16323b8a-d6cc-4a23-a7a3-b9b27afe57ca",
   "metadata": {},
   "outputs": [],
   "source": []
  }
 ],
 "metadata": {
  "kernelspec": {
   "display_name": "Python 3",
   "language": "python",
   "name": "python3"
  },
  "language_info": {
   "codemirror_mode": {
    "name": "ipython",
    "version": 3
   },
   "file_extension": ".py",
   "mimetype": "text/x-python",
   "name": "python",
   "nbconvert_exporter": "python",
   "pygments_lexer": "ipython3",
   "version": "3.8.1"
  }
 },
 "nbformat": 4,
 "nbformat_minor": 5
}
