{
 "cells": [
  {
   "cell_type": "markdown",
   "id": "02ad6d44-5ac1-4966-82ad-a70f5c4135cb",
   "metadata": {},
   "source": [
    "## Neighborhoods around the World"
   ]
  },
  {
   "cell_type": "markdown",
   "id": "65236351-7004-495a-ad44-57e01439905f",
   "metadata": {},
   "source": [
    "### Introduction and Problem\n",
    "Every country around the world has a unique culture and way of life. In order to thrive in this globalized economy it is important to understand our differences in order to interact respectfully with our counterparts around the world. This study will take a look at how similar major cities are around the world. We will focus on the size of the city, popular venues, available green space and other amenities located in metropolitan centers to better understand the priorities of different populations. This study is meant to inform high ranking business officials on how different cities are structured which tells us a lot about the behavior of the people that live there. This will give us a better understanding of their way of life before we do business with them.\n",
    "\n",
    "<b>Question:</b> Are cities around the world the same?"
   ]
  },
  {
   "cell_type": "markdown",
   "id": "8e3dc259-7d62-4c69-8b2b-7e1defcd9fb0",
   "metadata": {},
   "source": [
    "### Data Sources \n",
    "In this project, I will be using the Foursquare API to extract location data for major cities around the world. I will use the Foursquare API to extract the top 10 most popular venues in each city. I will then use the World Cities Basic Database (https://simplemaps.com/data/world-cities) to obtain a city's population. We will use this information along with a K-means algorithm to identify similar groups of cities. We will then add to this by including a country's economic data taken from The World Bank (https://data.worldbank.org/indicator/NY.GDP.PCAP.CD) including GDP per capita and unemployment as a csv. We will then use a similar algorithm to identify if these factors impact popular venues in cities. \n",
    "\n",
    "Potential Cities:\n",
    "- Toronto, Canada\n",
    "- Tokyo, Japan\n",
    "- Sao Paolo, Brazil\n",
    "- Cairo, Egypt\n",
    "- Madrid, Spain\n",
    "- Berlin, Germany\n",
    "- Houston, USA\n",
    "- Shanghai, China\n",
    "- Bogota, Colombia\n",
    "- Istanbul, Turkey\n",
    "\n",
    "Cities will be finalized after data is reviewed to ensure enough data is available to support the study."
   ]
  },
  {
   "cell_type": "code",
   "execution_count": null,
   "id": "16323b8a-d6cc-4a23-a7a3-b9b27afe57ca",
   "metadata": {},
   "outputs": [],
   "source": []
  }
 ],
 "metadata": {
  "kernelspec": {
   "display_name": "Python 3",
   "language": "python",
   "name": "python3"
  },
  "language_info": {
   "codemirror_mode": {
    "name": "ipython",
    "version": 3
   },
   "file_extension": ".py",
   "mimetype": "text/x-python",
   "name": "python",
   "nbconvert_exporter": "python",
   "pygments_lexer": "ipython3",
   "version": "3.8.1"
  }
 },
 "nbformat": 4,
 "nbformat_minor": 5
}
